{
 "cells": [
  {
   "cell_type": "code",
   "execution_count": 1,
   "metadata": {},
   "outputs": [],
   "source": [
    "def solve(first):\n",
    "    r2 = r3 = r4 = r5 = 0\n",
    "    seen = set()\n",
    "    while True:\n",
    "        r5 = r2 | 65536  # line 6\n",
    "        r2 = 2238642  # line 7\n",
    "        while True:\n",
    "            r3 = r5 & 255\n",
    "            r2 += r3\n",
    "            r2 &= 16777215\n",
    "            r2 *= 65899\n",
    "            r2 &= 16777215\n",
    "            if r5 < 256:  # line 13-14\n",
    "                if first:\n",
    "                    return r2  # line 28-29: stop iff r2==r0\n",
    "                elif r2 in seen:\n",
    "                    # where in a loop now, so take the last value\n",
    "                    return last_r2\n",
    "                else:\n",
    "                    last_r2 = r2\n",
    "                    seen.add(r2)\n",
    "                    break\n",
    "            r5 = r5 // 256  # line 17-26"
   ]
  },
  {
   "cell_type": "markdown",
   "metadata": {},
   "source": [
    "# Part I"
   ]
  },
  {
   "cell_type": "code",
   "execution_count": 2,
   "metadata": {},
   "outputs": [
    {
     "data": {
      "text/plain": [
       "13970209"
      ]
     },
     "execution_count": 2,
     "metadata": {},
     "output_type": "execute_result"
    }
   ],
   "source": [
    "solve(True)"
   ]
  },
  {
   "cell_type": "markdown",
   "metadata": {},
   "source": [
    "# Part II"
   ]
  },
  {
   "cell_type": "code",
   "execution_count": 3,
   "metadata": {},
   "outputs": [
    {
     "data": {
      "text/plain": [
       "6267260"
      ]
     },
     "execution_count": 3,
     "metadata": {},
     "output_type": "execute_result"
    }
   ],
   "source": [
    "solve(False)"
   ]
  }
 ],
 "metadata": {
  "kernelspec": {
   "display_name": "conda:aoc",
   "language": "python",
   "name": "conda-env-aoc-py"
  },
  "language_info": {
   "codemirror_mode": {
    "name": "ipython",
    "version": 3
   },
   "file_extension": ".py",
   "mimetype": "text/x-python",
   "name": "python",
   "nbconvert_exporter": "python",
   "pygments_lexer": "ipython3",
   "version": "3.7.1"
  }
 },
 "nbformat": 4,
 "nbformat_minor": 2
}
