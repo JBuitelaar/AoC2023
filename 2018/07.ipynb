{
 "cells": [
  {
   "cell_type": "code",
   "execution_count": 1,
   "metadata": {},
   "outputs": [],
   "source": [
    "import numpy as np\n",
    "from operator import itemgetter"
   ]
  },
  {
   "cell_type": "code",
   "execution_count": 2,
   "metadata": {},
   "outputs": [],
   "source": [
    "rows = open(\"07.txt\", \"r\").read().split(\"\\n\")"
   ]
  },
  {
   "cell_type": "code",
   "execution_count": 3,
   "metadata": {},
   "outputs": [],
   "source": [
    "import re\n",
    "\n",
    "patt = re.compile(\"^Step ([A-Z]) must be finished before step ([A-Z]) can begin.$\")"
   ]
  },
  {
   "cell_type": "code",
   "execution_count": 4,
   "metadata": {},
   "outputs": [
    {
     "data": {
      "text/plain": [
       "[('D', 'T'),\n",
       " ('T', 'K'),\n",
       " ('O', 'S'),\n",
       " ('Y', 'G'),\n",
       " ('F', 'Q'),\n",
       " ('Q', 'C'),\n",
       " ('R', 'X'),\n",
       " ('E', 'X'),\n",
       " ('V', 'U'),\n",
       " ('U', 'H')]"
      ]
     },
     "execution_count": 4,
     "metadata": {},
     "output_type": "execute_result"
    }
   ],
   "source": [
    "deps_list = [patt.match(x).groups() for x in rows]\n",
    "deps_list[:10]"
   ]
  },
  {
   "cell_type": "code",
   "execution_count": 5,
   "metadata": {},
   "outputs": [
    {
     "data": {
      "text/plain": [
       "{'X': ['S', 'G', 'H', 'K', 'C'],\n",
       " 'B': ['J', 'I', 'N'],\n",
       " 'C': ['N', 'J', 'I'],\n",
       " 'K': ['W', 'I'],\n",
       " 'Y': ['G', 'R', 'M', 'J', 'S', 'W', 'N', 'V'],\n",
       " 'U': ['H', 'M', 'X', 'J', 'I'],\n",
       " 'G': ['I', 'Z', 'B'],\n",
       " 'S': ['J', 'C', 'N', 'G'],\n",
       " 'E': ['X', 'B', 'U', 'K', 'Z'],\n",
       " 'F': ['Q', 'Z', 'K', 'A', 'P', 'M', 'C', 'I'],\n",
       " 'O': ['S', 'L', 'P', 'M'],\n",
       " 'Z': ['I', 'B', 'N', 'C'],\n",
       " 'Q': ['C', 'N', 'W', 'A', 'U', 'P'],\n",
       " 'I': ['N'],\n",
       " 'L': ['C', 'A', 'W', 'J'],\n",
       " 'M': ['J', 'C', 'N', 'G', 'B'],\n",
       " 'A': ['N', 'J', 'K', 'I', 'M'],\n",
       " 'V': ['U', 'C', 'B', 'I', 'G', 'W'],\n",
       " 'P': ['B', 'I', 'G', 'K'],\n",
       " 'H': ['Z', 'N', 'J'],\n",
       " 'D': ['T', 'C'],\n",
       " 'N': [],\n",
       " 'W': ['C', 'B', 'J', 'S'],\n",
       " 'T': ['K', 'E', 'L'],\n",
       " 'J': ['N', 'I'],\n",
       " 'R': ['X', 'J']}"
      ]
     },
     "execution_count": 5,
     "metadata": {},
     "output_type": "execute_result"
    }
   ],
   "source": [
    "from collections import defaultdict\n",
    "\n",
    "keys = {x for dep in deps_list for x in dep}\n",
    "parents = {k: [] for k in keys}\n",
    "\n",
    "for k, v in deps_list:\n",
    "    parents[k].append(v)\n",
    "\n",
    "parents"
   ]
  },
  {
   "cell_type": "code",
   "execution_count": 6,
   "metadata": {},
   "outputs": [
    {
     "data": {
      "text/plain": [
       "{'T': ['D'],\n",
       " 'K': ['T', 'F', 'A', 'X', 'E', 'P'],\n",
       " 'S': ['O', 'X', 'Y', 'W'],\n",
       " 'G': ['Y', 'X', 'V', 'P', 'M', 'S'],\n",
       " 'Q': ['F'],\n",
       " 'C': ['Q', 'L', 'W', 'V', 'S', 'M', 'F', 'Z', 'X', 'D'],\n",
       " 'X': ['R', 'E', 'U'],\n",
       " 'U': ['V', 'E', 'Q'],\n",
       " 'H': ['U', 'X'],\n",
       " 'B': ['P', 'Z', 'W', 'V', 'E', 'G', 'M'],\n",
       " 'N': ['A', 'C', 'J', 'I', 'Q', 'H', 'B', 'S', 'M', 'Z', 'Y'],\n",
       " 'W': ['K', 'Q', 'L', 'V', 'Y'],\n",
       " 'Z': ['H', 'F', 'G', 'E'],\n",
       " 'J': ['M', 'S', 'B', 'A', 'R', 'W', 'U', 'Y', 'L', 'C', 'H'],\n",
       " 'I': ['G', 'Z', 'J', 'B', 'V', 'P', 'A', 'K', 'U', 'C', 'F'],\n",
       " 'L': ['O', 'T'],\n",
       " 'R': ['Y'],\n",
       " 'M': ['U', 'Y', 'A', 'F', 'O'],\n",
       " 'E': ['T'],\n",
       " 'A': ['L', 'Q', 'F'],\n",
       " 'P': ['O', 'F', 'Q'],\n",
       " 'V': ['Y']}"
      ]
     },
     "execution_count": 6,
     "metadata": {},
     "output_type": "execute_result"
    }
   ],
   "source": [
    "def getdeps():\n",
    "    deps = defaultdict(list)\n",
    "\n",
    "    for k, v in deps_list:\n",
    "        deps[v].append(k)\n",
    "\n",
    "    return dict(deps)\n",
    "\n",
    "\n",
    "getdeps()"
   ]
  },
  {
   "cell_type": "code",
   "execution_count": 7,
   "metadata": {},
   "outputs": [
    {
     "data": {
      "text/plain": [
       "'DFOQPTELAYRVUMXHKWSGZBCJIN'"
      ]
     },
     "execution_count": 7,
     "metadata": {},
     "output_type": "execute_result"
    }
   ],
   "source": [
    "deps = getdeps()\n",
    "free_jobs = list(keys - set(deps.keys()))\n",
    "res = []\n",
    "while len(free_jobs):\n",
    "    ch = min(free_jobs)\n",
    "    free_jobs.remove(ch)\n",
    "    res.append(ch)\n",
    "    pars = parents[ch]\n",
    "    for par in pars:\n",
    "        deps[par].remove(ch)\n",
    "        if not len(deps[par]):\n",
    "            free_jobs.append(par)\n",
    "assert 26 == len(res)\n",
    "\"\".join(res)"
   ]
  },
  {
   "cell_type": "markdown",
   "metadata": {},
   "source": [
    "Part II"
   ]
  },
  {
   "cell_type": "code",
   "execution_count": 8,
   "metadata": {},
   "outputs": [
    {
     "data": {
      "text/plain": [
       "70"
      ]
     },
     "execution_count": 8,
     "metadata": {},
     "output_type": "execute_result"
    }
   ],
   "source": [
    "def jobtime(char):\n",
    "    return ord(char) - 64 + 60\n",
    "\n",
    "\n",
    "jobtime(\"J\")"
   ]
  },
  {
   "cell_type": "code",
   "execution_count": 9,
   "metadata": {},
   "outputs": [],
   "source": [
    "busy_until = np.zeros(5)\n",
    "deps = getdeps()\n",
    "free_jobs = list(keys - set(deps.keys()))\n",
    "free_jobs = [(x, 0) for x in free_jobs]\n",
    "res = []\n",
    "time = 0\n",
    "while len(free_jobs):\n",
    "    # print(time)\n",
    "    # at least one worker is available\n",
    "    # these can start now.\n",
    "    available_jobs = [x for x in free_jobs if x[1] <= time]\n",
    "\n",
    "    if not len(available_jobs):\n",
    "        # no jobs available. wait unitl the next one is:\n",
    "        time = min(x[1] for x in free_jobs)\n",
    "        continue\n",
    "\n",
    "    # print(free_jobs)\n",
    "    # print(busy_until)\n",
    "    # take the first alphabetically:\n",
    "    el = min(available_jobs, key=itemgetter(0))\n",
    "    free_jobs.remove(el)\n",
    "    ch, ready = el\n",
    "    # print(ch)\n",
    "    res.append(ch)\n",
    "    job_ready = time + jobtime(ch)\n",
    "    busy_until[0] = job_ready\n",
    "    busy_until.sort()\n",
    "    # wait until the next elve is available:\n",
    "    time = busy_until[0]\n",
    "    pars = parents[ch]\n",
    "    for par in pars:\n",
    "        deps[par].remove(ch)\n",
    "        if not len(deps[par]):\n",
    "            free_jobs.append((par, job_ready))"
   ]
  },
  {
   "cell_type": "code",
   "execution_count": 10,
   "metadata": {},
   "outputs": [
    {
     "data": {
      "text/plain": [
       "1036.0"
      ]
     },
     "execution_count": 10,
     "metadata": {},
     "output_type": "execute_result"
    }
   ],
   "source": [
    "max(busy_until)"
   ]
  }
 ],
 "metadata": {
  "kernelspec": {
   "display_name": "aoc",
   "language": "python",
   "name": "aoc"
  },
  "language_info": {
   "codemirror_mode": {
    "name": "ipython",
    "version": 3
   },
   "file_extension": ".py",
   "mimetype": "text/x-python",
   "name": "python",
   "nbconvert_exporter": "python",
   "pygments_lexer": "ipython3",
   "version": "3.6.7"
  }
 },
 "nbformat": 4,
 "nbformat_minor": 2
}
