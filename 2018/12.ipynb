{
 "cells": [
  {
   "cell_type": "code",
   "execution_count": 1,
   "metadata": {},
   "outputs": [],
   "source": [
    "import re"
   ]
  },
  {
   "cell_type": "markdown",
   "metadata": {},
   "source": [
    "# Test data"
   ]
  },
  {
   "cell_type": "code",
   "execution_count": 2,
   "metadata": {},
   "outputs": [],
   "source": [
    "input = \"\"\"...## => #\n",
    "..#.. => #\n",
    ".#... => #\n",
    ".#.#. => #\n",
    ".#.## => #\n",
    ".##.. => #\n",
    ".#### => #\n",
    "#.#.# => #\n",
    "#.### => #\n",
    "##.#. => #\n",
    "##.## => #\n",
    "###.. => #\n",
    "###.# => #\n",
    "####. => #\"\"\".splitlines()"
   ]
  },
  {
   "cell_type": "code",
   "execution_count": 3,
   "metadata": {},
   "outputs": [
    {
     "data": {
      "text/plain": [
       "{'...##': '#',\n",
       " '..#..': '#',\n",
       " '.#...': '#',\n",
       " '.#.#.': '#',\n",
       " '.#.##': '#',\n",
       " '.##..': '#',\n",
       " '.####': '#',\n",
       " '#.#.#': '#',\n",
       " '#.###': '#',\n",
       " '##.#.': '#',\n",
       " '##.##': '#',\n",
       " '###..': '#',\n",
       " '###.#': '#',\n",
       " '####.': '#'}"
      ]
     },
     "execution_count": 3,
     "metadata": {},
     "output_type": "execute_result"
    }
   ],
   "source": [
    "pattern = re.compile(\"^([#.]+) => (#|.)\")\n",
    "plants_map = dict(pattern.match(line).groups() for line in input)\n",
    "plants_map"
   ]
  },
  {
   "cell_type": "code",
   "execution_count": 4,
   "metadata": {},
   "outputs": [],
   "source": [
    "def printplants(plants, first, gen):\n",
    "    print(f'{gen:02}: {\" \"*(first-3)}{plants} {first}')"
   ]
  },
  {
   "cell_type": "code",
   "execution_count": 5,
   "metadata": {},
   "outputs": [],
   "source": [
    "extra = \".\" * 5\n",
    "\n",
    "\n",
    "def nextplants(plants, first):\n",
    "    plants = extra + plants + extra\n",
    "    plants = \"\".join(\n",
    "        plants_map.get(plants[ix : ix + 5], \".\") for ix in range(len(plants) - 4)\n",
    "    )\n",
    "    first_plant = plants.find(\"#\")\n",
    "    last = plants.rfind(\"#\")\n",
    "    plants = plants[first_plant : last + 1]\n",
    "    first += first_plant - 3\n",
    "    return (plants, first)"
   ]
  },
  {
   "cell_type": "code",
   "execution_count": 6,
   "metadata": {},
   "outputs": [],
   "source": [
    "# first is the location of the first plant\n",
    "def potsum(plants, first):\n",
    "    return sum((ix + first) if c == \"#\" else 0 for ix, c in enumerate(plants))"
   ]
  },
  {
   "cell_type": "code",
   "execution_count": 7,
   "metadata": {},
   "outputs": [
    {
     "name": "stdout",
     "output_type": "stream",
     "text": [
      "00: #..#.#..##......###...### 0\n",
      "01: #...#....#.....#..#..#..# 0\n",
      "02: ##..##...##....#..#..#..## 0\n",
      "03: #.#...#..#.#....#..#..#...# -1\n",
      "04: #.#..#...#.#...#..#..##..## 0\n",
      "05: #...##...#.#..#..#...#...# 1\n",
      "06: ##.#.#....#...#..##..##..## 1\n",
      "07: #..###.#...##..#...#...#...# 0\n",
      "08: #....##.#.#.#..##..##..##..## 0\n",
      "09: ##..#..#####....#...#...#...# 0\n",
      "10: #.#..#...#.##....##..##..##..## -1\n",
      "11: #...##...#.#...#.#...#...#...# 0\n",
      "12: ##.#.#....#.#...#.#..##..##..## 0\n",
      "13: #..###.#....#.#...#....#...#...# -1\n",
      "14: #....##.#....#.#..##...##..##..## -1\n",
      "15: ##..#..#.#....#....#..#.#...#...# -1\n",
      "16: #.#..#...#.#...##...#...#.#..##..## -2\n",
      "17: #...##...#.#.#.#...##...#....#...# -1\n",
      "18: ##.#.#....#####.#.#.#...##...##..## -1\n",
      "19: #..###.#..#.#.#######.#.#.#..#.#...# -2\n",
      "20: #....##....#####...#######....#.#..## -2\n"
     ]
    },
    {
     "data": {
      "text/plain": [
       "325"
      ]
     },
     "execution_count": 7,
     "metadata": {},
     "output_type": "execute_result"
    }
   ],
   "source": [
    "plants = \"#..#.#..##......###...###\"\n",
    "first = 0\n",
    "printplants(plants, first, 0)\n",
    "\n",
    "for gen in range(1, 21):\n",
    "    plants, first = nextplants(plants, first)\n",
    "    printplants(plants, first, gen)\n",
    "\n",
    "potsum(plants, first)"
   ]
  },
  {
   "cell_type": "markdown",
   "metadata": {},
   "source": [
    "# Part I"
   ]
  },
  {
   "cell_type": "code",
   "execution_count": 8,
   "metadata": {},
   "outputs": [],
   "source": [
    "lines = open(\"12.txt\", \"r\").read().splitlines()"
   ]
  },
  {
   "cell_type": "code",
   "execution_count": 9,
   "metadata": {},
   "outputs": [],
   "source": [
    "pattern = re.compile(\"^([#.]+) => (#|.)\")\n",
    "plants_map = dict(pattern.match(line).groups() for line in lines[2:])\n",
    "# plants_map"
   ]
  },
  {
   "cell_type": "code",
   "execution_count": 10,
   "metadata": {},
   "outputs": [],
   "source": [
    "plants_initial = re.match(\"^initial state: ([#.]+)$\", lines[0]).group(1)"
   ]
  },
  {
   "cell_type": "code",
   "execution_count": 11,
   "metadata": {},
   "outputs": [
    {
     "name": "stdout",
     "output_type": "stream",
     "text": [
      "00: ##.###.......#..#.##..#####...#...#######....##.##.##.##..#.#.##########...##.##..##.##...####..#### 0\n",
      "01: #.....#........#####...#.###.#..####.#####...#...#..#..#..#####..########.##...#......#..###.##..#.## -1\n",
      "02: #.....#......##.###.#.##..#..#.#.##...###.#..##..##.##.#.#.###..#.######.#..#..#......#.#.#.#..#### 0\n",
      "03: #.....#....#.....#.###..#.#######..###.#..#........#..####..#.###..####..##.##.#.....######.#.#.## 1\n",
      "04: #.....#....#....##..#.###..#####..#.#..##.#........#.#.##.###..#..#.##.....#...#...##.####.##### 2\n",
      "05: #.....#....#..#...###..#..#.###.###.#.....#.......#####....#.#.#####.......##..###.....##...### 3\n",
      "06:  #.....#....##.####.#.#.####..#...#..#.....#.....##.###....####..###......#....#.#....#...###.# 4\n",
      "07:   #.....#..#.....##.####..##.#.##..##.#.....#...#.....#...##.##..#.#.......#...##.#....####.#..# 5\n",
      "08:    #.....##.#...#.....##.....###.......#.....##..#.....###...#..###.#.......###....#..##.##..##.# 6\n",
      "09:     #...#....##..#...#......##.#........#...#...#.#...##.#.#..#.#.#..#.....##.#.....#....#.......# 7\n",
      "10:      ##..#..#...#.##..#....#....#........##..##.##.###...##.######.##.#...#....#.....#....#.......# 8\n",
      "11:     #...#.##.##.###..#.#....#....#......#.......#....#.##.....####.#...##..#....#.....#....#.......# 7\n",
      "12:      ##.###..#....#.###.#....#....#......#.......#...###.....##.##..###...#.#....#.....#....#.......# 8\n",
      "13:     #.....#.#.#...##..#..#....#....#......#.......####.#....#...#...#.#.#.##.#....#.....#....#.......# 7\n",
      "14:      #....####.###...#.##.#....#....#......#.....##.##..#....##..##.#######...#....#.....#....#.......# 8\n",
      "15:       #..##.##...#.#.###...#....#....#......#...#...#..#.#..#.........#####.#..#....#.....#....#.......# 9\n",
      "16:        #....#..#.####..#.#..#....#....#......##..##..####.##.#.......##.###..##.#....#.....#....#.......# 10\n",
      "17:         #....####..##.###.##.#....#....#....#........#.##.#...#.....#.....#......#....#.....#....#.......# 11\n",
      "18:          #..##.##.......#.#...#....#....#....#.......###...##..#.....#.....#......#....#.....#....#.......# 12\n",
      "19:           #....#........##.##..#....#....#....#.....##.#.##...#.#.....#.....#......#....#.....#....#.......# 13\n",
      "20:            #....#......#...#..#.#....#....#....#...#...###..#.##.#.....#.....#......#....#.....#....#.......# 14\n"
     ]
    },
    {
     "data": {
      "text/plain": [
       "1430"
      ]
     },
     "execution_count": 11,
     "metadata": {},
     "output_type": "execute_result"
    }
   ],
   "source": [
    "plants = plants_initial\n",
    "\n",
    "first = 0\n",
    "printplants(plants, first, 0)\n",
    "\n",
    "for gen in range(1, 21):\n",
    "    plants, first = nextplants(plants, first)\n",
    "    printplants(plants, first, gen)\n",
    "\n",
    "potsum(plants, first)"
   ]
  },
  {
   "cell_type": "markdown",
   "metadata": {},
   "source": [
    "# Part II"
   ]
  },
  {
   "cell_type": "markdown",
   "metadata": {},
   "source": [
    "Running all generations will take too long, but surely there will be some repetition at some point"
   ]
  },
  {
   "cell_type": "code",
   "execution_count": 12,
   "metadata": {},
   "outputs": [
    {
     "name": "stdout",
     "output_type": "stream",
     "text": [
      "(55, 111) (56, 112)\n"
     ]
    }
   ],
   "source": [
    "plants = plants_initial\n",
    "\n",
    "first = 0\n",
    "found = dict()\n",
    "found[plants] = (first, 0)\n",
    "\n",
    "for gen in range(1, 1000):\n",
    "    plants, first = nextplants(plants, first)\n",
    "    if plants in found:\n",
    "        prev = found[plants]\n",
    "        print(prev, (first, gen))\n",
    "        assert prev[1] + 1 == gen\n",
    "        break\n",
    "    else:\n",
    "        found[plants] = (first, gen)\n",
    "# print(plants)"
   ]
  },
  {
   "cell_type": "markdown",
   "metadata": {},
   "source": [
    "So we're lucky, nothing changes after step 111, but the plants shift 1 place to the right. So at the end we'll be here:"
   ]
  },
  {
   "cell_type": "code",
   "execution_count": 13,
   "metadata": {},
   "outputs": [],
   "source": [
    "first = 55 + int(50e9) - 111"
   ]
  },
  {
   "cell_type": "code",
   "execution_count": 14,
   "metadata": {},
   "outputs": [
    {
     "data": {
      "text/plain": [
       "1150000000457"
      ]
     },
     "execution_count": 14,
     "metadata": {},
     "output_type": "execute_result"
    }
   ],
   "source": [
    "potsum(plants, first)"
   ]
  }
 ],
 "metadata": {
  "kernelspec": {
   "display_name": "aoc",
   "language": "python",
   "name": "aoc"
  },
  "language_info": {
   "codemirror_mode": {
    "name": "ipython",
    "version": 3
   },
   "file_extension": ".py",
   "mimetype": "text/x-python",
   "name": "python",
   "nbconvert_exporter": "python",
   "pygments_lexer": "ipython3",
   "version": "3.6.7"
  }
 },
 "nbformat": 4,
 "nbformat_minor": 2
}
