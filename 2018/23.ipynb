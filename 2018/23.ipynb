{
 "cells": [
  {
   "cell_type": "code",
   "execution_count": 1,
   "metadata": {},
   "outputs": [],
   "source": [
    "import numpy as np\n",
    "from math import log2\n",
    "from itertools import product"
   ]
  },
  {
   "cell_type": "code",
   "execution_count": 2,
   "metadata": {},
   "outputs": [],
   "source": [
    "input = open(\"23.txt\").read().splitlines()"
   ]
  },
  {
   "cell_type": "code",
   "execution_count": 3,
   "metadata": {},
   "outputs": [],
   "source": [
    "import re\n",
    "\n",
    "inputs = [\n",
    "    [int(x) for x in re.match(\"pos=<(-?\\d+),(-?\\d+),(-?\\d+)>, r=(-?\\d+)\", r).groups()]\n",
    "    for r in input\n",
    "]\n",
    "inputs = [(tuple(x[:-1]), x[-1]) for x in inputs]"
   ]
  },
  {
   "cell_type": "code",
   "execution_count": 4,
   "metadata": {},
   "outputs": [],
   "source": [
    "def distance(c1, c2):\n",
    "    return sum(abs(x1 - x2) for x1, x2 in zip(c1, c2))\n",
    "\n",
    "\n",
    "def count_range(loc):\n",
    "    return sum(distance(loc, c) <= r for (c, r) in inputs)"
   ]
  },
  {
   "cell_type": "markdown",
   "metadata": {},
   "source": [
    "# Part I"
   ]
  },
  {
   "cell_type": "code",
   "execution_count": 5,
   "metadata": {},
   "outputs": [
    {
     "data": {
      "text/plain": [
       "((59440842, 78549595, 54602601), 99462279)"
      ]
     },
     "execution_count": 5,
     "metadata": {},
     "output_type": "execute_result"
    }
   ],
   "source": [
    "(coords_max, maxr) = max(inputs, key=lambda x: x[1])\n",
    "(coords_max, maxr)"
   ]
  },
  {
   "cell_type": "code",
   "execution_count": 6,
   "metadata": {},
   "outputs": [
    {
     "data": {
      "text/plain": [
       "721"
      ]
     },
     "execution_count": 6,
     "metadata": {},
     "output_type": "execute_result"
    }
   ],
   "source": [
    "sum(distance(loc, coords_max) <= maxr for (loc, _) in inputs)"
   ]
  },
  {
   "cell_type": "markdown",
   "metadata": {},
   "source": [
    "# Part II"
   ]
  },
  {
   "cell_type": "markdown",
   "metadata": {},
   "source": [
    "As a first guess, just try all the bot locations:"
   ]
  },
  {
   "cell_type": "code",
   "execution_count": 8,
   "metadata": {},
   "outputs": [
    {
     "data": {
      "text/plain": [
       "852"
      ]
     },
     "execution_count": 8,
     "metadata": {},
     "output_type": "execute_result"
    }
   ],
   "source": [
    "arr = np.array([count_range(loc) for loc, _ in inputs])\n",
    "max_ix = np.argmax(arr)\n",
    "arr[max_ix]"
   ]
  },
  {
   "cell_type": "code",
   "execution_count": 9,
   "metadata": {},
   "outputs": [
    {
     "data": {
      "text/plain": [
       "(22072014, 40746738, 43994665)"
      ]
     },
     "execution_count": 9,
     "metadata": {},
     "output_type": "execute_result"
    }
   ],
   "source": [
    "center = inputs[max_ix][0]\n",
    "center"
   ]
  },
  {
   "cell_type": "markdown",
   "metadata": {},
   "source": [
    "Look in a range sized equal to the max range:"
   ]
  },
  {
   "cell_type": "code",
   "execution_count": 10,
   "metadata": {},
   "outputs": [
    {
     "data": {
      "text/plain": [
       "27"
      ]
     },
     "execution_count": 10,
     "metadata": {},
     "output_type": "execute_result"
    }
   ],
   "source": [
    "init_power = int(log2(maxr)) + 1\n",
    "init_power"
   ]
  },
  {
   "cell_type": "markdown",
   "metadata": {},
   "source": [
    "Now do a binary search:"
   ]
  },
  {
   "cell_type": "code",
   "execution_count": 11,
   "metadata": {},
   "outputs": [
    {
     "name": "stdout",
     "output_type": "stream",
     "text": [
      "(852, -106813417, (22072014, 40746738, 43994665))\n",
      "(852, -106813417, (22072014, 40746738, 43994665))\n",
      "(852, -106813417, (22072014, 40746738, 43994665))\n",
      "(852, -106813417, (22072014, 40746738, 43994665))\n",
      "(852, -106813417, (22072014, 40746738, 43994665))\n",
      "(864, -102619113, (17877710, 40746738, 43994665))\n",
      "(886, -98424809, (17877710, 38649586, 41897513))\n",
      "(887, -96327657, (16829134, 38649586, 40848937))\n",
      "(887, -94754793, (16304846, 38125298, 40324649))\n",
      "(887, -93968361, (16042702, 37601010, 40324649))\n",
      "(887, -93575145, (15911630, 37469938, 40193577))\n",
      "(887, -93247465, (15780558, 37404402, 40062505))\n",
      "(887, -93214697, (15747790, 37404402, 40062505))\n",
      "(888, -93165545, (15747790, 37388018, 40029737))\n",
      "(888, -93149161, (15739598, 37379826, 40029737))\n",
      "(888, -93136873, (15735502, 37371634, 40029737))\n",
      "(889, -93132777, (15733454, 37371634, 40027689))\n",
      "(894, -93133801, (15733454, 37371634, 40028713))\n",
      "(896, -93131753, (15732942, 37371122, 40027689))\n",
      "(904, -93131497, (15732942, 37371122, 40027433))\n",
      "(949, -93130857, (15732686, 37370866, 40027305))\n",
      "(949, -93130857, (15732686, 37370866, 40027305))\n",
      "(949, -93130857, (15732686, 37370866, 40027305))\n",
      "(971, -93130777, (15732654, 37370834, 40027289))\n",
      "(971, -93130777, (15732654, 37370834, 40027289))\n",
      "(972, -93130769, (15732654, 37370830, 40027285))\n",
      "(973, -93130767, (15732654, 37370828, 40027285))\n",
      "(974, -93130765, (15732653, 37370828, 40027284))\n"
     ]
    }
   ],
   "source": [
    "# center=(0,0,0)\n",
    "# center=(15732654, 37370828, 40027284)\n",
    "for power in range(init_power, -1, -1):\n",
    "    res = []\n",
    "    stepsize = 2**power\n",
    "    for loc in product(\n",
    "        *[range(c - 2 * stepsize, c + 1 + 2 * stepsize, stepsize) for c in center]\n",
    "    ):\n",
    "        res.append((count_range(loc), -sum(abs(x) for x in loc), loc))\n",
    "    maxv = max(res)\n",
    "    print(maxv)\n",
    "    (score, dist, center) = maxv"
   ]
  },
  {
   "cell_type": "code",
   "execution_count": 13,
   "metadata": {},
   "outputs": [
    {
     "name": "stdout",
     "output_type": "stream",
     "text": [
      "answer=93130765\n"
     ]
    }
   ],
   "source": [
    "print(f\"answer={-dist}\")"
   ]
  }
 ],
 "metadata": {
  "kernelspec": {
   "display_name": "conda:aoc",
   "language": "python",
   "name": "conda-env-aoc-py"
  },
  "language_info": {
   "codemirror_mode": {
    "name": "ipython",
    "version": 3
   },
   "file_extension": ".py",
   "mimetype": "text/x-python",
   "name": "python",
   "nbconvert_exporter": "python",
   "pygments_lexer": "ipython3",
   "version": "3.7.1"
  }
 },
 "nbformat": 4,
 "nbformat_minor": 2
}
