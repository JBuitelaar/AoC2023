{
 "cells": [
  {
   "cell_type": "markdown",
   "metadata": {},
   "source": [
    "448 players; last marble is worth 71628 points"
   ]
  },
  {
   "cell_type": "code",
   "execution_count": 1,
   "metadata": {},
   "outputs": [],
   "source": [
    "import numpy as np"
   ]
  },
  {
   "cell_type": "code",
   "execution_count": 2,
   "metadata": {},
   "outputs": [],
   "source": [
    "def new_loc(loc, move, length):\n",
    "    # note we never insert at location 0 (though the result would be the same)\n",
    "    return (loc + move - 1) % length + 1"
   ]
  },
  {
   "cell_type": "code",
   "execution_count": 3,
   "metadata": {},
   "outputs": [],
   "source": [
    "def highscore(player_count, marble_count):\n",
    "    scores = np.zeros(player_count, int)\n",
    "    locations = [0, 1]\n",
    "    loc = 1\n",
    "\n",
    "    for marble in range(2, marble_count + 1):\n",
    "        if not marble % 23:\n",
    "            loc = (loc - 7) % len(locations)\n",
    "            player_id = (marble - 1) % player_count\n",
    "            scores[player_id] += marble + locations[loc]\n",
    "            del locations[loc]\n",
    "        else:\n",
    "            loc = new_loc(loc, 2, len(locations))\n",
    "            locations.insert(loc, marble)\n",
    "    return max(scores)"
   ]
  },
  {
   "cell_type": "code",
   "execution_count": 4,
   "metadata": {},
   "outputs": [
    {
     "data": {
      "text/plain": [
       "32"
      ]
     },
     "execution_count": 4,
     "metadata": {},
     "output_type": "execute_result"
    }
   ],
   "source": [
    "highscore(9, 25)"
   ]
  },
  {
   "cell_type": "code",
   "execution_count": 5,
   "metadata": {},
   "outputs": [
    {
     "data": {
      "text/plain": [
       "8317"
      ]
     },
     "execution_count": 5,
     "metadata": {},
     "output_type": "execute_result"
    }
   ],
   "source": [
    "highscore(10, 1618)"
   ]
  },
  {
   "cell_type": "code",
   "execution_count": 6,
   "metadata": {},
   "outputs": [
    {
     "data": {
      "text/plain": [
       "2764"
      ]
     },
     "execution_count": 6,
     "metadata": {},
     "output_type": "execute_result"
    }
   ],
   "source": [
    "highscore(17, 1104)"
   ]
  },
  {
   "cell_type": "code",
   "execution_count": 7,
   "metadata": {},
   "outputs": [
    {
     "data": {
      "text/plain": [
       "54718"
      ]
     },
     "execution_count": 7,
     "metadata": {},
     "output_type": "execute_result"
    }
   ],
   "source": [
    "highscore(21, 6111)"
   ]
  },
  {
   "cell_type": "code",
   "execution_count": 8,
   "metadata": {},
   "outputs": [
    {
     "data": {
      "text/plain": [
       "37305"
      ]
     },
     "execution_count": 8,
     "metadata": {},
     "output_type": "execute_result"
    }
   ],
   "source": [
    "highscore(30, 5807)"
   ]
  },
  {
   "cell_type": "code",
   "execution_count": 9,
   "metadata": {},
   "outputs": [],
   "source": [
    "player_count = 448\n",
    "marble_count = 71628"
   ]
  },
  {
   "cell_type": "code",
   "execution_count": 10,
   "metadata": {},
   "outputs": [
    {
     "name": "stdout",
     "output_type": "stream",
     "text": [
      "Wall time: 879 ms\n"
     ]
    },
    {
     "data": {
      "text/plain": [
       "394486"
      ]
     },
     "execution_count": 10,
     "metadata": {},
     "output_type": "execute_result"
    }
   ],
   "source": [
    "%%time\n",
    "highscore(player_count, marble_count)"
   ]
  },
  {
   "cell_type": "markdown",
   "metadata": {},
   "source": [
    "# Part II\n",
    "method above is too slow (too many O(N) inserts), so use a doubly linked list instead"
   ]
  },
  {
   "cell_type": "code",
   "execution_count": 11,
   "metadata": {},
   "outputs": [],
   "source": [
    "from src import linkedlist"
   ]
  },
  {
   "cell_type": "code",
   "execution_count": 12,
   "metadata": {},
   "outputs": [],
   "source": [
    "def highscoreLL(player_count, marble_count):\n",
    "    scores = np.zeros(player_count, \"int64\")\n",
    "    loc = linkedlist.circle1()\n",
    "\n",
    "    for marble in range(1, marble_count + 1):\n",
    "        if not marble % 23:\n",
    "            # loc.print()\n",
    "            loc = loc.move_left(7)\n",
    "            player_id = (marble - 1) % player_count\n",
    "            scores[player_id] += marble + loc.value\n",
    "            loc = loc.remove()\n",
    "        else:\n",
    "            loc = loc.move_right(2)\n",
    "            loc = loc.insert_before(marble)\n",
    "    return max(scores)"
   ]
  },
  {
   "cell_type": "code",
   "execution_count": 13,
   "metadata": {},
   "outputs": [
    {
     "name": "stdout",
     "output_type": "stream",
     "text": [
      "Wall time: 286 ms\n"
     ]
    },
    {
     "data": {
      "text/plain": [
       "394486"
      ]
     },
     "execution_count": 13,
     "metadata": {},
     "output_type": "execute_result"
    }
   ],
   "source": [
    "%%time\n",
    "highscoreLL(player_count, marble_count)"
   ]
  },
  {
   "cell_type": "code",
   "execution_count": 14,
   "metadata": {},
   "outputs": [
    {
     "name": "stdout",
     "output_type": "stream",
     "text": [
      "Wall time: 31.7 s\n"
     ]
    },
    {
     "data": {
      "text/plain": [
       "3276488008"
      ]
     },
     "execution_count": 14,
     "metadata": {},
     "output_type": "execute_result"
    }
   ],
   "source": [
    "%%time\n",
    "highscoreLL(player_count, marble_count * 100)"
   ]
  }
 ],
 "metadata": {
  "kernelspec": {
   "display_name": "aoc",
   "language": "python",
   "name": "aoc"
  },
  "language_info": {
   "codemirror_mode": {
    "name": "ipython",
    "version": 3
   },
   "file_extension": ".py",
   "mimetype": "text/x-python",
   "name": "python",
   "nbconvert_exporter": "python",
   "pygments_lexer": "ipython3",
   "version": "3.6.7"
  }
 },
 "nbformat": 4,
 "nbformat_minor": 2
}
