{
 "cells": [
  {
   "cell_type": "code",
   "execution_count": 1,
   "metadata": {},
   "outputs": [],
   "source": [
    "# Test code\n",
    "depth = 510\n",
    "target_x, target_y = 10, 10"
   ]
  },
  {
   "cell_type": "code",
   "execution_count": 2,
   "metadata": {},
   "outputs": [
    {
     "data": {
      "text/plain": [
       "(6084, 14, 709)"
      ]
     },
     "execution_count": 2,
     "metadata": {},
     "output_type": "execute_result"
    }
   ],
   "source": [
    "import re\n",
    "\n",
    "input = open(\"22.txt\").read()\n",
    "groups = re.match(\"depth: (\\d+)\\ntarget: (\\d+),(\\d+)\", input).groups()\n",
    "depth, target_x, target_y = (int(x.replace(\",\", \"\")) for x in groups)\n",
    "depth, target_x, target_y"
   ]
  },
  {
   "cell_type": "code",
   "execution_count": 3,
   "metadata": {},
   "outputs": [],
   "source": [
    "from functools import lru_cache\n",
    "\n",
    "\n",
    "@lru_cache(None)\n",
    "def geo_ix(x, y):\n",
    "    if x == y == 0:\n",
    "        return 0\n",
    "    if x == target_x and y == target_y:\n",
    "        return 0\n",
    "    if y == 0:\n",
    "        return x * 16807\n",
    "    if x == 0:\n",
    "        return y * 48271\n",
    "    return erosion_level(x - 1, y) * erosion_level(x, y - 1)"
   ]
  },
  {
   "cell_type": "code",
   "execution_count": 4,
   "metadata": {},
   "outputs": [],
   "source": [
    "def erosion_level(x, y):\n",
    "    return (geo_ix(x, y) + depth) % 20183"
   ]
  },
  {
   "cell_type": "code",
   "execution_count": 5,
   "metadata": {},
   "outputs": [],
   "source": [
    "@lru_cache(None)\n",
    "def regtype(x, y):\n",
    "    return erosion_level(x, y) % 3"
   ]
  },
  {
   "cell_type": "markdown",
   "metadata": {},
   "source": [
    "# Part I"
   ]
  },
  {
   "cell_type": "code",
   "execution_count": 6,
   "metadata": {},
   "outputs": [
    {
     "data": {
      "text/plain": [
       "10603"
      ]
     },
     "execution_count": 6,
     "metadata": {},
     "output_type": "execute_result"
    }
   ],
   "source": [
    "sum(regtype(x, y) for x in range(target_x + 1) for y in range(target_y + 1))"
   ]
  },
  {
   "cell_type": "markdown",
   "metadata": {},
   "source": [
    "# Part II"
   ]
  },
  {
   "cell_type": "markdown",
   "metadata": {},
   "source": [
    "region type ```Rock, wet, narrow``` is numbered ```0,1,2```.  \n",
    "Now we also number the tools ```neither, torch, climbing gear``` ```0,1,2```.  \n",
    "That means a tool is not allowed if it's equal to the region type"
   ]
  },
  {
   "cell_type": "code",
   "execution_count": 7,
   "metadata": {},
   "outputs": [],
   "source": [
    "import heapq"
   ]
  },
  {
   "cell_type": "markdown",
   "metadata": {},
   "source": [
    "heapq always returns the element with the lowest value. since we keep on adding al neighbours, there is no way we can get to the first element in a faster way (as it has to take another route, but there is no shorter route left)"
   ]
  },
  {
   "cell_type": "code",
   "execution_count": 8,
   "metadata": {},
   "outputs": [
    {
     "name": "stdout",
     "output_type": "stream",
     "text": [
      "answer=952\n",
      "Wall time: 25.4 s\n"
     ]
    }
   ],
   "source": [
    "%%time\n",
    "heap = [(0, (0, 0, 1))]  # mins, (x, y, tool)\n",
    "best = dict()\n",
    "while True:\n",
    "    mins, key = heapq.heappop(heap)\n",
    "    if key in best:\n",
    "        assert best[key] <= mins\n",
    "        continue\n",
    "    if key == (target_x, target_y, 1):\n",
    "        print(f\"answer={mins}\")\n",
    "        break\n",
    "    best[key] = mins\n",
    "\n",
    "    (x, y, tool) = key\n",
    "    for newtool in range(3):\n",
    "        if newtool != regtype(x, y) and tool != newtool:\n",
    "            heapq.heappush(heap, (mins + 7, (x, y, newtool)))\n",
    "\n",
    "    for dx, dy in ((0, 1), (1, 0), (-1, 0), (0, -1)):\n",
    "        (newx, newy) = (x + dx, y + dy)\n",
    "        if newx >= 0 and newy >= 0 and regtype(newx, newy) != tool:\n",
    "            heapq.heappush(heap, (mins + 1, (newx, newy, tool)))"
   ]
  }
 ],
 "metadata": {
  "kernelspec": {
   "display_name": "conda:aoc",
   "language": "python",
   "name": "conda-env-aoc-py"
  },
  "language_info": {
   "codemirror_mode": {
    "name": "ipython",
    "version": 3
   },
   "file_extension": ".py",
   "mimetype": "text/x-python",
   "name": "python",
   "nbconvert_exporter": "python",
   "pygments_lexer": "ipython3",
   "version": "3.7.1"
  }
 },
 "nbformat": 4,
 "nbformat_minor": 2
}
