{
 "cells": [
  {
   "cell_type": "code",
   "execution_count": 1,
   "metadata": {},
   "outputs": [],
   "source": [
    "input = 503761"
   ]
  },
  {
   "cell_type": "code",
   "execution_count": 2,
   "metadata": {},
   "outputs": [],
   "source": [
    "test_input = {9: \"5158916779\", 5: \"0124515891\", 18: \"9251071085\", 2018: \"5941429882\"}"
   ]
  },
  {
   "cell_type": "code",
   "execution_count": 3,
   "metadata": {},
   "outputs": [],
   "source": [
    "def find_recipe(count):\n",
    "    recipes = [3, 7]\n",
    "    locations = [0, 1]\n",
    "    while len(recipes) < count + 10:\n",
    "        selected = [recipes[loc] for loc in locations]\n",
    "        total = sum(selected)\n",
    "        recipes.extend(int(x) for x in str(total))\n",
    "        locations = [\n",
    "            (loc + 1 + val) % len(recipes) for loc, val in zip(locations, selected)\n",
    "        ]\n",
    "\n",
    "    return \"\".join(map(str, recipes[count : count + 10]))"
   ]
  },
  {
   "cell_type": "code",
   "execution_count": 4,
   "metadata": {},
   "outputs": [],
   "source": [
    "for count, out in test_input.items():\n",
    "    assert find_recipe(count) == out"
   ]
  },
  {
   "cell_type": "code",
   "execution_count": 9,
   "metadata": {},
   "outputs": [
    {
     "name": "stdout",
     "output_type": "stream",
     "text": [
      "1044257397\n",
      "Wall time: 1.44 s\n"
     ]
    }
   ],
   "source": [
    "%%time\n",
    "print(find_recipe(input))"
   ]
  },
  {
   "cell_type": "code",
   "execution_count": 6,
   "metadata": {},
   "outputs": [],
   "source": [
    "def find_digits(digits: str):\n",
    "    recipes = [3, 7]\n",
    "    locations = [0, 1]\n",
    "    output = [int(x) for x in digits]\n",
    "    strlen = len(digits)\n",
    "    while True:\n",
    "        selected = [recipes[loc] for loc in locations]\n",
    "        total = str(sum(selected))\n",
    "        for ch in total:\n",
    "            recipes.append(int(ch))\n",
    "            if recipes[-strlen:] == output:\n",
    "                return len(recipes) - strlen\n",
    "        locations = [\n",
    "            (loc + 1 + val) % len(recipes) for loc, val in zip(locations, selected)\n",
    "        ]"
   ]
  },
  {
   "cell_type": "code",
   "execution_count": 7,
   "metadata": {},
   "outputs": [],
   "source": [
    "for count, out in test_input.items():\n",
    "    assert find_digits(out[:5]) == count"
   ]
  },
  {
   "cell_type": "code",
   "execution_count": 11,
   "metadata": {},
   "outputs": [
    {
     "name": "stdout",
     "output_type": "stream",
     "text": [
      "Wall time: 57.4 s\n"
     ]
    },
    {
     "data": {
      "text/plain": [
       "20185425"
      ]
     },
     "execution_count": 11,
     "metadata": {},
     "output_type": "execute_result"
    }
   ],
   "source": [
    "%%time\n",
    "find_digits(str(input))"
   ]
  }
 ],
 "metadata": {
  "kernelspec": {
   "display_name": "aoc",
   "language": "python",
   "name": "aoc"
  },
  "language_info": {
   "codemirror_mode": {
    "name": "ipython",
    "version": 3
   },
   "file_extension": ".py",
   "mimetype": "text/x-python",
   "name": "python",
   "nbconvert_exporter": "python",
   "pygments_lexer": "ipython3",
   "version": "3.6.7"
  }
 },
 "nbformat": 4,
 "nbformat_minor": 2
}
