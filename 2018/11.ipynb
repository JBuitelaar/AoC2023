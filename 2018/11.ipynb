{
 "cells": [
  {
   "cell_type": "markdown",
   "metadata": {},
   "source": [
    "Input:"
   ]
  },
  {
   "cell_type": "code",
   "execution_count": 1,
   "metadata": {},
   "outputs": [],
   "source": [
    "serial_no = 7989"
   ]
  },
  {
   "cell_type": "code",
   "execution_count": 2,
   "metadata": {},
   "outputs": [],
   "source": [
    "import pandas as pd\n",
    "import numpy as np"
   ]
  },
  {
   "cell_type": "code",
   "execution_count": 3,
   "metadata": {},
   "outputs": [],
   "source": [
    "def powerlevel(x, y, serial_no):\n",
    "    rackid = x + 10\n",
    "    res = (rackid * y) + serial_no\n",
    "    res *= rackid\n",
    "    res = (res // 100) % 10\n",
    "    return res - 5"
   ]
  },
  {
   "cell_type": "code",
   "execution_count": 4,
   "metadata": {},
   "outputs": [],
   "source": [
    "assert 4 == powerlevel(3, 5, 8)\n",
    "assert -5 == powerlevel(122, 79, 57)\n",
    "assert 0 == powerlevel(217, 196, 39)\n",
    "assert 4 == powerlevel(101, 153, 71)"
   ]
  },
  {
   "cell_type": "code",
   "execution_count": 5,
   "metadata": {},
   "outputs": [],
   "source": [
    "size = 300"
   ]
  },
  {
   "cell_type": "code",
   "execution_count": 6,
   "metadata": {},
   "outputs": [],
   "source": [
    "def grid(serial_no):\n",
    "    power = np.zeros([size, size], int)\n",
    "\n",
    "    for x in range(size):\n",
    "        for y in range(size):\n",
    "            power[y, x] = powerlevel(x + 1, y + 1, serial_no)\n",
    "\n",
    "    return pd.DataFrame(power)"
   ]
  },
  {
   "cell_type": "code",
   "execution_count": 7,
   "metadata": {},
   "outputs": [],
   "source": [
    "def max_power(grid, square_size, display=False):\n",
    "    tmp = (\n",
    "        grid.rolling(square_size)\n",
    "        .sum()\n",
    "        .rolling(square_size, axis=1)\n",
    "        .sum()\n",
    "        .iloc[square_size - 1 :, square_size - 1 :]\n",
    "    )\n",
    "\n",
    "    max_power = np.max(tmp.values)\n",
    "    coords = np.unravel_index(np.argmax(tmp.values, axis=None), tmp.shape)\n",
    "    (y, x) = coords\n",
    "    if display:\n",
    "        idx = pd.RangeIndex(1, 301)\n",
    "        grid.index = idx\n",
    "        grid.columns = idx\n",
    "        print(grid.iloc[y - 1 : y + square_size + 1, x - 1 : x + square_size + 1])\n",
    "    return ((x + 1, y + 1), max_power)"
   ]
  },
  {
   "cell_type": "code",
   "execution_count": 8,
   "metadata": {},
   "outputs": [
    {
     "name": "stdout",
     "output_type": "stream",
     "text": [
      "    32  33  34  35  36\n",
      "44  -2  -4   4   4   4\n",
      "45  -4   4   4   4  -5\n",
      "46   4   3   3   4  -4\n",
      "47   1   1   2   4  -3\n",
      "48  -1   0   2  -5  -2\n"
     ]
    }
   ],
   "source": [
    "assert ((33, 45), 29) == max_power(grid(18), 3, display=True)"
   ]
  },
  {
   "cell_type": "code",
   "execution_count": 9,
   "metadata": {},
   "outputs": [
    {
     "name": "stdout",
     "output_type": "stream",
     "text": [
      "    20  21  22  23  24\n",
      "60  -3   4   2   2   2\n",
      "61  -4   4   3   3   4\n",
      "62  -5   3   3   4  -4\n",
      "63   4   3   3   4  -3\n",
      "64   3   3   3  -5  -1\n"
     ]
    }
   ],
   "source": [
    "assert ((21, 61), 30) == max_power(grid(42), 3, display=True)"
   ]
  },
  {
   "cell_type": "code",
   "execution_count": 10,
   "metadata": {},
   "outputs": [
    {
     "name": "stdout",
     "output_type": "stream",
     "text": [
      "19,17\n"
     ]
    }
   ],
   "source": [
    "print(\"{},{}\".format(*(max_power(grid(serial_no), 3)[0])))"
   ]
  },
  {
   "cell_type": "markdown",
   "metadata": {},
   "source": [
    "# Part II"
   ]
  },
  {
   "cell_type": "code",
   "execution_count": 11,
   "metadata": {},
   "outputs": [],
   "source": [
    "def max_square(serial_no):\n",
    "    grid_df = grid(serial_no)\n",
    "    results = [(max_power(grid_df, i), i) for i in range(1, 299)]\n",
    "    (((x, y), val), size) = max(results, key=lambda x: x[0][1])\n",
    "    return f\"{x},{y},{size}\""
   ]
  },
  {
   "cell_type": "code",
   "execution_count": 12,
   "metadata": {},
   "outputs": [],
   "source": [
    "assert \"90,269,16\" == max_square(18)"
   ]
  },
  {
   "cell_type": "code",
   "execution_count": 13,
   "metadata": {},
   "outputs": [],
   "source": [
    "assert \"232,251,12\" == max_square(42)"
   ]
  },
  {
   "cell_type": "code",
   "execution_count": 14,
   "metadata": {},
   "outputs": [
    {
     "data": {
      "text/plain": [
       "'233,288,12'"
      ]
     },
     "execution_count": 14,
     "metadata": {},
     "output_type": "execute_result"
    }
   ],
   "source": [
    "max_square(serial_no)"
   ]
  }
 ],
 "metadata": {
  "kernelspec": {
   "display_name": "aoc",
   "language": "python",
   "name": "aoc"
  },
  "language_info": {
   "codemirror_mode": {
    "name": "ipython",
    "version": 3
   },
   "file_extension": ".py",
   "mimetype": "text/x-python",
   "name": "python",
   "nbconvert_exporter": "python",
   "pygments_lexer": "ipython3",
   "version": "3.6.7"
  }
 },
 "nbformat": 4,
 "nbformat_minor": 2
}
