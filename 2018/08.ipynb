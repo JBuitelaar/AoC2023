{
 "cells": [
  {
   "cell_type": "code",
   "execution_count": 1,
   "metadata": {},
   "outputs": [
    {
     "data": {
      "text/plain": [
       "'9 11 6 2 5 3 3 5 1 5'"
      ]
     },
     "execution_count": 1,
     "metadata": {},
     "output_type": "execute_result"
    }
   ],
   "source": [
    "input_str = open(\"08.txt\", \"r\").read()\n",
    "input_str[:20]"
   ]
  },
  {
   "cell_type": "code",
   "execution_count": 2,
   "metadata": {},
   "outputs": [],
   "source": [
    "input = list(int(x) for x in input_str.split(\" \"))"
   ]
  },
  {
   "cell_type": "code",
   "execution_count": 3,
   "metadata": {},
   "outputs": [],
   "source": [
    "from collections import namedtuple\n",
    "\n",
    "Node = namedtuple(\"Node\", [\"children\", \"meta\"])"
   ]
  },
  {
   "cell_type": "code",
   "execution_count": 4,
   "metadata": {},
   "outputs": [],
   "source": [
    "nodes = dict()\n",
    "\n",
    "\n",
    "def read_node(node_id, ix):\n",
    "    next_id = node_id + 1\n",
    "    child_count, meta_count = input[ix : ix + 2]\n",
    "    ix += 2\n",
    "    children = []\n",
    "    for child in range(child_count):\n",
    "        children.append(next_id)\n",
    "        next_id, ix = read_node(next_id, ix)\n",
    "\n",
    "    meta = tuple(input[ix : ix + meta_count])\n",
    "    nodes[node_id] = Node(tuple(children), meta)\n",
    "    ix += meta_count\n",
    "\n",
    "    return (next_id, ix)"
   ]
  },
  {
   "cell_type": "code",
   "execution_count": 5,
   "metadata": {},
   "outputs": [
    {
     "data": {
      "text/plain": [
       "(1944, 18179)"
      ]
     },
     "execution_count": 5,
     "metadata": {},
     "output_type": "execute_result"
    }
   ],
   "source": [
    "read_node(0, 0)"
   ]
  },
  {
   "cell_type": "code",
   "execution_count": 6,
   "metadata": {},
   "outputs": [
    {
     "data": {
      "text/plain": [
       "[Node(children=(1, 204, 429, 632, 835, 1067, 1313, 1509, 1741), meta=(4, 5, 8, 2, 9, 3, 9, 9, 7, 6, 11)),\n",
       " Node(children=(2, 38, 67, 103, 132, 168), meta=(4, 2)),\n",
       " Node(children=(3, 10, 17, 24, 31), meta=(4, 2, 5)),\n",
       " Node(children=(4, 6, 8), meta=(2, 2, 5, 2, 5)),\n",
       " Node(children=(5,), meta=(3, 1, 3, 3, 1)),\n",
       " Node(children=(), meta=(8, 3, 4, 1, 4, 1, 8, 8, 4, 8)),\n",
       " Node(children=(7,), meta=(1, 3, 2, 3, 1, 2, 2)),\n",
       " Node(children=(), meta=(5, 1, 9, 4, 1, 6)),\n",
       " Node(children=(9,), meta=(2, 3, 2, 3, 1, 1, 3)),\n",
       " Node(children=(), meta=(8, 7, 3, 2, 5, 6, 1, 3, 6, 1))]"
      ]
     },
     "execution_count": 6,
     "metadata": {},
     "output_type": "execute_result"
    }
   ],
   "source": [
    "[nodes[i] for i in range(10)]"
   ]
  },
  {
   "cell_type": "code",
   "execution_count": 7,
   "metadata": {},
   "outputs": [
    {
     "data": {
      "text/plain": [
       "46829"
      ]
     },
     "execution_count": 7,
     "metadata": {},
     "output_type": "execute_result"
    }
   ],
   "source": [
    "sum(sum(x.meta) for x in nodes.values())"
   ]
  },
  {
   "cell_type": "markdown",
   "metadata": {},
   "source": [
    "# Part II"
   ]
  },
  {
   "cell_type": "code",
   "execution_count": 8,
   "metadata": {},
   "outputs": [],
   "source": [
    "def node_value(node_id):\n",
    "    node = nodes[node_id]\n",
    "    children, meta = nodes[node_id]\n",
    "    if len(children):\n",
    "        return sum(\n",
    "            node_value(children[ix - 1]) for ix in meta if 0 < ix <= len(children)\n",
    "        )\n",
    "    else:\n",
    "        return sum(meta)"
   ]
  },
  {
   "cell_type": "code",
   "execution_count": 9,
   "metadata": {},
   "outputs": [
    {
     "data": {
      "text/plain": [
       "37450"
      ]
     },
     "execution_count": 9,
     "metadata": {},
     "output_type": "execute_result"
    }
   ],
   "source": [
    "node_value(0)"
   ]
  }
 ],
 "metadata": {
  "kernelspec": {
   "display_name": "aoc",
   "language": "python",
   "name": "aoc"
  },
  "language_info": {
   "codemirror_mode": {
    "name": "ipython",
    "version": 3
   },
   "file_extension": ".py",
   "mimetype": "text/x-python",
   "name": "python",
   "nbconvert_exporter": "python",
   "pygments_lexer": "ipython3",
   "version": "3.6.7"
  }
 },
 "nbformat": 4,
 "nbformat_minor": 2
}
